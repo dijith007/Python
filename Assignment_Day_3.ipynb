{
  "nbformat": 4,
  "nbformat_minor": 0,
  "metadata": {
    "colab": {
      "name": "Assignment Day 3.ipynb",
      "provenance": [],
      "authorship_tag": "ABX9TyPgc/wdayclib8j+Pdqf/O1",
      "include_colab_link": true
    },
    "kernelspec": {
      "name": "python3",
      "display_name": "Python 3"
    }
  },
  "cells": [
    {
      "cell_type": "markdown",
      "metadata": {
        "id": "view-in-github",
        "colab_type": "text"
      },
      "source": [
        "<a href=\"https://colab.research.google.com/github/dijith007/Python/blob/master/Assignment_Day_3.ipynb\" target=\"_parent\"><img src=\"https://colab.research.google.com/assets/colab-badge.svg\" alt=\"Open In Colab\"/></a>"
      ]
    },
    {
      "cell_type": "code",
      "metadata": {
        "id": "nGVSqL6PrsbK",
        "colab_type": "code",
        "colab": {}
      },
      "source": [
        "#Assignment 1:Prime Number Program"
      ],
      "execution_count": null,
      "outputs": []
    },
    {
      "cell_type": "code",
      "metadata": {
        "id": "2VS3S3HmdYlu",
        "colab_type": "code",
        "colab": {
          "base_uri": "https://localhost:8080/",
          "height": 822
        },
        "outputId": "498f47a4-1edd-47b1-89d6-c2929796f480"
      },
      "source": [
        "for num in range(1,201):\n",
        "  if num>1:\n",
        "    for i in range(2,num):\n",
        "     if(num%i)==0:\n",
        "      break\n",
        "    else:\n",
        "     print(num)"
      ],
      "execution_count": 100,
      "outputs": [
        {
          "output_type": "stream",
          "text": [
            "2\n",
            "3\n",
            "5\n",
            "7\n",
            "11\n",
            "13\n",
            "17\n",
            "19\n",
            "23\n",
            "29\n",
            "31\n",
            "37\n",
            "41\n",
            "43\n",
            "47\n",
            "53\n",
            "59\n",
            "61\n",
            "67\n",
            "71\n",
            "73\n",
            "79\n",
            "83\n",
            "89\n",
            "97\n",
            "101\n",
            "103\n",
            "107\n",
            "109\n",
            "113\n",
            "127\n",
            "131\n",
            "137\n",
            "139\n",
            "149\n",
            "151\n",
            "157\n",
            "163\n",
            "167\n",
            "173\n",
            "179\n",
            "181\n",
            "191\n",
            "193\n",
            "197\n",
            "199\n"
          ],
          "name": "stdout"
        }
      ]
    },
    {
      "cell_type": "code",
      "metadata": {
        "id": "3MGQE1fEj45z",
        "colab_type": "code",
        "colab": {}
      },
      "source": [
        "#Assignment 2: Airplane programe"
      ],
      "execution_count": null,
      "outputs": []
    },
    {
      "cell_type": "code",
      "metadata": {
        "id": "wps5kI5Oj-Cl",
        "colab_type": "code",
        "colab": {
          "base_uri": "https://localhost:8080/",
          "height": 52
        },
        "outputId": "6725d53a-826a-48e2-f4de-680a66bc3177"
      },
      "source": [
        "altitude = int(input(\"Enter the altitude: \"))\n",
        "if altitude >= 5001:\n",
        "    print(\"Turn around and try later\")\n",
        "elif altitude <= 1000:\n",
        "    print(\"Land the plane\") \n",
        "else:\n",
        "    print(\"bring to 1000ft\")"
      ],
      "execution_count": 140,
      "outputs": [
        {
          "output_type": "stream",
          "text": [
            "Enter the altitude: 4500\n",
            "bring to 1000\n"
          ],
          "name": "stdout"
        }
      ]
    }
  ]
}