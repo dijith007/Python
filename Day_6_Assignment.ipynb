{
  "nbformat": 4,
  "nbformat_minor": 0,
  "metadata": {
    "colab": {
      "name": "Day 6 Assignment.ipynb",
      "provenance": [],
      "authorship_tag": "ABX9TyPxNTk2Tt6PbWEt0GDHJrE6",
      "include_colab_link": true
    },
    "kernelspec": {
      "name": "python3",
      "display_name": "Python 3"
    }
  },
  "cells": [
    {
      "cell_type": "markdown",
      "metadata": {
        "id": "view-in-github",
        "colab_type": "text"
      },
      "source": [
        "<a href=\"https://colab.research.google.com/github/dijith007/Python/blob/master/Day_6_Assignment.ipynb\" target=\"_parent\"><img src=\"https://colab.research.google.com/assets/colab-badge.svg\" alt=\"Open In Colab\"/></a>"
      ]
    },
    {
      "cell_type": "markdown",
      "metadata": {
        "id": "meYTa-MNgSSd",
        "colab_type": "text"
      },
      "source": [
        "Bank account problem\n",
        "  "
      ]
    },
    {
      "cell_type": "code",
      "metadata": {
        "id": "fIj33nvDcOO_",
        "colab_type": "code",
        "colab": {}
      },
      "source": [
        "class banckacc():\n",
        "    def __init__(self,accholder,balance):\n",
        "       self.accholder = accholder\n",
        "       self.balance   = balance\n",
        "       print(\"your account is created\")\n",
        "    def deposit(self):\n",
        "     print(\"Account holder name: \",self.accholder)\n",
        "     print(\"bakance: \",self.balance)\n",
        "     amt = int(input(\"Enter amount to deposit : \"))\n",
        "     self.balance += amt\n",
        "     print(\"your balance now is : \",self.balance)\n",
        "    def withdrawal(self):\n",
        "     print(\"Account holder name: \",self.accholder)\n",
        "     print(\"bakance: \",self.balance)\n",
        "     amt = int(input(\"Enter amount to withdraw : \"))\n",
        "     if amt>self.balance:\n",
        "         print(\"Insufficient balance\")\n",
        "     else:\n",
        "         self.balance -= amt\n",
        "         print(\"your remanining balance is: \",self.balance)"
      ],
      "execution_count": 16,
      "outputs": []
    },
    {
      "cell_type": "code",
      "metadata": {
        "id": "V49vLdwVhIIj",
        "colab_type": "code",
        "colab": {
          "base_uri": "https://localhost:8080/",
          "height": 174
        },
        "outputId": "5dadf1b8-b069-4ffa-b34c-10a58d78e204"
      },
      "source": [
        "acc = banckacc(\"Dijith nair\",500000)\n",
        "acc.deposit()\n",
        "acc.withdrawal()"
      ],
      "execution_count": 27,
      "outputs": [
        {
          "output_type": "stream",
          "text": [
            "your account is created\n",
            "Account holder name:  Dijith nair\n",
            "bakance:  500000\n",
            "Enter amount to deposit : 1000000\n",
            "your balance now is :  1500000\n",
            "Account holder name:  Dijith nair\n",
            "bakance:  1500000\n",
            "Enter amount to withdraw : 0\n",
            "your remanining balance is:  1500000\n"
          ],
          "name": "stdout"
        }
      ]
    },
    {
      "cell_type": "markdown",
      "metadata": {
        "id": "1U8cCQLcpIDt",
        "colab_type": "text"
      },
      "source": [
        "\n",
        "\n",
        "Area problem\n",
        "\n"
      ]
    },
    {
      "cell_type": "code",
      "metadata": {
        "id": "PlHVn_gPpBqU",
        "colab_type": "code",
        "colab": {}
      },
      "source": [
        "import math\n",
        "class conearea():\n",
        "    def __init__(self,r,h):\n",
        "        self.r = r\n",
        "        self.h = h\n",
        "    def volume (self):\n",
        "        volume = (1/3)* 3.14 * self.r * self.r *self.h\n",
        "        print(\"volume of cone :\",volume)\n",
        "    def surfarea(self):\n",
        "        base = 3.14 * self.r * self.r\n",
        "        print(\"base:\",base)\n",
        "        side = 3.14 * self.r * math.sqrt(self.r * self.r + self.h*self.h)\n",
        "        print(\"sides:\",side)\n",
        "        surface = base+side\n",
        "        print(\"area is :\",surface) "
      ],
      "execution_count": 28,
      "outputs": []
    },
    {
      "cell_type": "code",
      "metadata": {
        "id": "tyPiOlP2pCmx",
        "colab_type": "code",
        "colab": {
          "base_uri": "https://localhost:8080/",
          "height": 87
        },
        "outputId": "d19483d9-679e-427c-fd59-4ce9b1596de5"
      },
      "source": [
        "area= conearea(20,10)\n",
        "area.volume()\n",
        "area.surfarea()"
      ],
      "execution_count": 29,
      "outputs": [
        {
          "output_type": "stream",
          "text": [
            "volume of cone : 4186.666666666667\n",
            "base: 1256.0\n",
            "sides: 1404.250689869868\n",
            "area is : 2660.250689869868\n"
          ],
          "name": "stdout"
        }
      ]
    },
    {
      "cell_type": "code",
      "metadata": {
        "id": "nNyhTPmrpEqo",
        "colab_type": "code",
        "colab": {}
      },
      "source": [
        ""
      ],
      "execution_count": null,
      "outputs": []
    }
  ]
}